{
 "cells": [
  {
   "cell_type": "code",
   "execution_count": 1,
   "metadata": {
    "collapsed": true
   },
   "outputs": [
    {
     "name": "stderr",
     "output_type": "stream",
     "text": [
      "[INFO] This trial license of GraphLab Create is assigned to lax.cary@gmail.com and will expire on October 09, 2015. Please contact trial@dato.com for licensing options or to request a free non-commercial license for personal or academic use.\n",
      "\n",
      "[INFO] Start server at: ipc:///tmp/graphlab_server-3399 - Server binary: /home/ubuntu/anaconda/lib/python2.7/site-packages/graphlab/unity_server - Server log: /tmp/graphlab_server_1442878226.log\n",
      "[INFO] GraphLab Server Version: 1.5.2\n"
     ]
    },
    {
     "name": "stdout",
     "output_type": "stream",
     "text": [
      "PROGRESS: Recsys training: model = factorization_recommender\n",
      "PROGRESS: Preparing data set.\n",
      "PROGRESS:     Data has 214289 observations with 29096 users and 64 items.\n",
      "PROGRESS:     Data prepared in: 0.106201s\n",
      "PROGRESS: Training factorization_recommender for recommendations.\n",
      "PROGRESS: +--------------------------------+--------------------------------------------------+----------+\n",
      "PROGRESS: | Parameter                      | Description                                      | Value    |\n",
      "PROGRESS: +--------------------------------+--------------------------------------------------+----------+\n",
      "PROGRESS: | num_factors                    | Factor Dimension                                 | 1        |\n",
      "PROGRESS: | regularization                 | L2 Regularization on Factors                     | 0        |\n",
      "PROGRESS: | solver                         | Solver used for training                         | sgd      |\n",
      "PROGRESS: | nmf                            | Use Non-Negative Factors                         | True     |\n",
      "PROGRESS: | max_iterations                 | Maximum Number of Iterations                     | 100      |\n",
      "PROGRESS: +--------------------------------+--------------------------------------------------+----------+\n",
      "PROGRESS:   Optimizing model using SGD; tuning step size.\n",
      "PROGRESS:   Using 26786 / 214289 points for tuning the step size.\n",
      "PROGRESS: +---------+-------------------+------------------------------------------+\n",
      "PROGRESS: | Attempt | Initial Step Size | Estimated Objective Value                |\n",
      "PROGRESS: +---------+-------------------+------------------------------------------+\n",
      "PROGRESS: | 0       | 25                | 8.1623                                   |\n",
      "PROGRESS: | 1       | 12.5              | 5.31432                                  |\n",
      "PROGRESS: | 2       | 6.25              | 4.96486                                  |\n",
      "PROGRESS: | 3       | 3.125             | 6.06997                                  |\n",
      "PROGRESS: | 4       | 1.5625            | 3.83672                                  |\n",
      "PROGRESS: | 5       | 0.78125           | 4.14505                                  |\n",
      "PROGRESS: | 6       | 0.390625          | 0.827713                                 |\n",
      "PROGRESS: | 7       | 0.195312          | 0.230139                                 |\n",
      "PROGRESS: | 8       | 0.0976562         | 0.0941472                                |\n",
      "PROGRESS: | 9       | 0.0488281         | 0.0801723                                |\n",
      "PROGRESS: | 10      | 0.0244141         | 0.112917                                 |\n",
      "PROGRESS: | 11      | 0.012207          | 0.614008                                 |\n",
      "PROGRESS: +---------+-------------------+------------------------------------------+\n",
      "PROGRESS: | Final   | 0.0488281         | 0.0801723                                |\n",
      "PROGRESS: +---------+-------------------+------------------------------------------+\n",
      "PROGRESS: Starting Optimization.\n",
      "PROGRESS: +---------+--------------+-------------------+-----------------------+-------------+\n",
      "PROGRESS: | Iter.   | Elapsed Time | Approx. Objective | Approx. Training RMSE | Step Size   |\n",
      "PROGRESS: +---------+--------------+-------------------+-----------------------+-------------+\n",
      "PROGRESS: | Initial | 88us         | 14.6201           | 3.82363               |             |\n",
      "PROGRESS: +---------+--------------+-------------------+-----------------------+-------------+\n",
      "PROGRESS: | 1       | 64.404ms     | 2.71587           | 1.64788               | 0.0488281   |\n",
      "PROGRESS: | 2       | 132.306ms    | 0.331511          | 0.575736              | 0.0290334   |\n",
      "PROGRESS: | 3       | 189.287ms    | 0.23532           | 0.485094              | 0.0214205   |\n",
      "PROGRESS: | 4       | 249.854ms    | 0.209211          | 0.457395              | 0.0172633   |\n",
      "PROGRESS: | 5       | 310.976ms    | 0.196259          | 0.443011              | 0.014603    |\n",
      "PROGRESS: | 6       | 380.441ms    | 0.188759          | 0.434464              | 0.0127367   |\n",
      "PROGRESS: | 11      | 687.626ms    | 0.170996          | 0.413516              | 0.00808399  |\n",
      "PROGRESS: | 25      | 1.54s        | 0.158527          | 0.398155              | 0.00436732  |\n",
      "PROGRESS: | 50      | 3.03s        | 0.152806          | 0.390904              | 0.00259682  |\n",
      "PROGRESS: | 51      | 3.09s        | 0.152704          | 0.390774              | 0.00255854  |\n",
      "PROGRESS: | 75      | 4.58s        | 0.148122          | 0.384866              | 0.0011392   |\n",
      "PROGRESS: | 100     | 6.11s        | 0.145169          | 0.38101               | 0.000229529 |\n",
      "PROGRESS: +---------+--------------+-------------------+-----------------------+-------------+\n",
      "PROGRESS: Optimization Complete: Maximum number of passes through the data reached.\n",
      "PROGRESS: Computing final objective value and training RMSE.\n",
      "PROGRESS:        Final objective value: 0.144397\n",
      "PROGRESS:        Final training RMSE: 0.379996\n",
      "PROGRESS: Recsys training: model = factorization_recommender\n",
      "PROGRESS: Preparing data set.\n",
      "PROGRESS:     Data has 314032 observations with 30286 users and 109 items.\n",
      "PROGRESS:     Data prepared in: 0.125479s\n",
      "PROGRESS: Training factorization_recommender for recommendations.\n",
      "PROGRESS: +--------------------------------+--------------------------------------------------+----------+\n",
      "PROGRESS: | Parameter                      | Description                                      | Value    |\n",
      "PROGRESS: +--------------------------------+--------------------------------------------------+----------+\n",
      "PROGRESS: | num_factors                    | Factor Dimension                                 | 1        |\n",
      "PROGRESS: | regularization                 | L2 Regularization on Factors                     | 0        |\n",
      "PROGRESS: | solver                         | Solver used for training                         | sgd      |\n",
      "PROGRESS: | nmf                            | Use Non-Negative Factors                         | True     |\n",
      "PROGRESS: | max_iterations                 | Maximum Number of Iterations                     | 100      |\n",
      "PROGRESS: +--------------------------------+--------------------------------------------------+----------+\n",
      "PROGRESS:   Optimizing model using SGD; tuning step size.\n",
      "PROGRESS:   Using 39254 / 314032 points for tuning the step size.\n",
      "PROGRESS: +---------+-------------------+------------------------------------------+\n",
      "PROGRESS: | Attempt | Initial Step Size | Estimated Objective Value                |\n",
      "PROGRESS: +---------+-------------------+------------------------------------------+\n",
      "PROGRESS: | 0       | 25                | 9.80679                                  |\n",
      "PROGRESS: | 1       | 12.5              | 12.3048                                  |\n",
      "PROGRESS: | 2       | 6.25              | 11.8597                                  |\n",
      "PROGRESS: | 3       | 3.125             | 11.3846                                  |\n",
      "PROGRESS: +---------+-------------------+------------------------------------------+\n",
      "PROGRESS: | Final   | 25                | 9.80679                                  |\n",
      "PROGRESS: +---------+-------------------+------------------------------------------+\n",
      "PROGRESS: Starting Optimization.\n",
      "PROGRESS: +---------+--------------+-------------------+-----------------------+-------------+\n",
      "PROGRESS: | Iter.   | Elapsed Time | Approx. Objective | Approx. Training RMSE | Step Size   |\n",
      "PROGRESS: +---------+--------------+-------------------+-----------------------+-------------+\n",
      "PROGRESS: | Initial | 94us         | 41.5528           | 6.44615               |             |\n",
      "PROGRESS: +---------+--------------+-------------------+-----------------------+-------------+\n",
      "PROGRESS: | 1       | 65.529ms     | 18.2853           | 4.27603               | 25          |\n",
      "PROGRESS: | 2       | 122.848ms    | 15.2081           | 3.89974               | 14.8651     |\n",
      "PROGRESS: | 3       | 172.142ms    | 13.5524           | 3.68136               | 10.9673     |\n",
      "PROGRESS: | 4       | 225.74ms     | 14.309            | 3.78272               | 8.83883     |\n",
      "PROGRESS: | 5       | 279.715ms    | 13.6371           | 3.69285               | 6.28717     |\n",
      "PROGRESS: | 6       | 334.444ms    | 14.1694           | 3.76422               | 4.61117     |\n",
      "PROGRESS: | 11      | 594.017ms    | 13.1519           | 3.62655               | 1.23053     |\n",
      "PROGRESS: | 25      | 1.31s        | 6.44866           | 2.53942               | 0.166197    |\n",
      "PROGRESS: | 50      | 2.61s        | 4.08426           | 2.02095               | 0.0988212   |\n",
      "PROGRESS: | 51      | 2.67s        | 4.04255           | 2.01061               | 0.0973643   |\n",
      "PROGRESS: | 75      | 3.89s        | 3.08667           | 1.75689               | 0.0729091   |\n",
      "PROGRESS: | 100     | 5.17s        | 1.24914           | 1.11765               | 0.0349386   |\n",
      "PROGRESS: +---------+--------------+-------------------+-----------------------+-------------+\n",
      "PROGRESS: Optimization Complete: Maximum number of passes through the data reached.\n",
      "PROGRESS: Computing final objective value and training RMSE.\n",
      "PROGRESS:        Final objective value: 1.01954\n",
      "PROGRESS:        Final training RMSE: 1.00972\n",
      "PROGRESS: Recsys training: model = factorization_recommender\n",
      "PROGRESS: Preparing data set.\n",
      "PROGRESS:     Data has 99274 observations with 23772 users and 43 items.\n",
      "PROGRESS:     Data prepared in: 0.067403s\n",
      "PROGRESS: Training factorization_recommender for recommendations.\n",
      "PROGRESS: +--------------------------------+--------------------------------------------------+----------+\n",
      "PROGRESS: | Parameter                      | Description                                      | Value    |\n",
      "PROGRESS: +--------------------------------+--------------------------------------------------+----------+\n",
      "PROGRESS: | num_factors                    | Factor Dimension                                 | 1        |\n",
      "PROGRESS: | regularization                 | L2 Regularization on Factors                     | 0        |\n",
      "PROGRESS: | solver                         | Solver used for training                         | sgd      |\n",
      "PROGRESS: | nmf                            | Use Non-Negative Factors                         | True     |\n",
      "PROGRESS: | max_iterations                 | Maximum Number of Iterations                     | 100      |\n",
      "PROGRESS: +--------------------------------+--------------------------------------------------+----------+\n",
      "PROGRESS:   Optimizing model using SGD; tuning step size.\n",
      "PROGRESS:   Using 12409 / 99274 points for tuning the step size.\n",
      "PROGRESS: +---------+-------------------+------------------------------------------+\n",
      "PROGRESS: | Attempt | Initial Step Size | Estimated Objective Value                |\n",
      "PROGRESS: +---------+-------------------+------------------------------------------+\n",
      "PROGRESS: | 0       | 25                | 19.2747                                  |\n",
      "PROGRESS: | 1       | 12.5              | 18.9483                                  |\n",
      "PROGRESS: | 2       | 6.25              | 22.0853                                  |\n",
      "PROGRESS: | 3       | 3.125             | 19.0774                                  |\n",
      "PROGRESS: | 4       | 1.5625            | 19.101                                   |\n",
      "PROGRESS: +---------+-------------------+------------------------------------------+\n",
      "PROGRESS: | Final   | 12.5              | 18.9483                                  |\n",
      "PROGRESS: +---------+-------------------+------------------------------------------+\n",
      "PROGRESS: Starting Optimization.\n",
      "PROGRESS: +---------+--------------+-------------------+-----------------------+-------------+\n",
      "PROGRESS: | Iter.   | Elapsed Time | Approx. Objective | Approx. Training RMSE | Step Size   |\n",
      "PROGRESS: +---------+--------------+-------------------+-----------------------+-------------+\n",
      "PROGRESS: | Initial | 75us         | 99.7645           | 9.98822               |             |\n",
      "PROGRESS: +---------+--------------+-------------------+-----------------------+-------------+\n",
      "PROGRESS: | 1       | 88.301ms     | 49.8283           | 7.05888               | 12.5        |\n",
      "PROGRESS: | 2       | 176.27ms     | 33.7394           | 5.80856               | 7.43254     |\n",
      "PROGRESS: | 3       | 259.185ms    | 23.977            | 4.89663               | 5.48364     |\n",
      "PROGRESS: | 4       | 325.197ms    | 30.5987           | 5.53161               | 4.41942     |\n",
      "PROGRESS: | 5       | 411.819ms    | 20.7016           | 4.5499                | 3.14358     |\n",
      "PROGRESS: | 6       | 489.561ms    | 26.6609           | 5.16342               | 2.30559     |\n",
      "PROGRESS: | 11      | 891.933ms    | 19.5652           | 4.42325               | 0.615266    |\n",
      "PROGRESS: | 25      | 1.93s        | 10.2686           | 3.20447               | 0.0830984   |\n",
      "PROGRESS: | 50      | 3.77s        | 5.67491           | 2.38221               | 0.0494106   |\n",
      "PROGRESS: | 51      | 3.84s        | 5.50139           | 2.3455                | 0.0486822   |\n",
      "PROGRESS: | 75      | 5.69s        | 3.17149           | 1.78087               | 0.0364545   |\n",
      "PROGRESS: | 100     | 7.46s        | 2.16721           | 1.47214               | 0.0293797   |\n",
      "PROGRESS: +---------+--------------+-------------------+-----------------------+-------------+\n",
      "PROGRESS: Optimization Complete: Maximum number of passes through the data reached.\n",
      "PROGRESS: Computing final objective value and training RMSE.\n",
      "PROGRESS:        Final objective value: 2.21976\n",
      "PROGRESS:        Final training RMSE: 1.48988\n"
     ]
    }
   ],
   "source": [
    "import seaborn\n",
    "import numpy as np\n",
    "import pandas as pd\n",
    "import ranking as r\n",
    "import validate_model as vm\n",
    "import create_model as cm\n",
    "%matplotlib inline \n",
    "%run first_model.py\n",
    "%load_ext autoreload\n",
    "%autoreload 2"
   ]
  },
  {
   "cell_type": "code",
   "execution_count": 2,
   "metadata": {
    "collapsed": true
   },
   "outputs": [
    {
     "name": "stdout",
     "output_type": "stream",
     "text": [
      "PROGRESS: Recsys training: model = factorization_recommender\n",
      "PROGRESS: Preparing data set.\n",
      "PROGRESS:     Data has 214289 observations with 29096 users and 64 items.\n",
      "PROGRESS:     Data prepared in: 0.107917s\n",
      "PROGRESS: Training factorization_recommender for recommendations.\n",
      "PROGRESS: +--------------------------------+--------------------------------------------------+----------+\n",
      "PROGRESS: | Parameter                      | Description                                      | Value    |\n",
      "PROGRESS: +--------------------------------+--------------------------------------------------+----------+\n",
      "PROGRESS: | num_factors                    | Factor Dimension                                 | 1        |\n",
      "PROGRESS: | regularization                 | L2 Regularization on Factors                     | 0        |\n",
      "PROGRESS: | solver                         | Solver used for training                         | sgd      |\n",
      "PROGRESS: | nmf                            | Use Non-Negative Factors                         | True     |\n",
      "PROGRESS: | max_iterations                 | Maximum Number of Iterations                     | 100      |\n",
      "PROGRESS: +--------------------------------+--------------------------------------------------+----------+\n",
      "PROGRESS:   Optimizing model using SGD; tuning step size.\n",
      "PROGRESS:   Using 26786 / 214289 points for tuning the step size.\n",
      "PROGRESS: +---------+-------------------+------------------------------------------+\n",
      "PROGRESS: | Attempt | Initial Step Size | Estimated Objective Value                |\n",
      "PROGRESS: +---------+-------------------+------------------------------------------+\n",
      "PROGRESS: | 0       | 25                | 7.28472                                  |\n",
      "PROGRESS: | 1       | 12.5              | 5.90538                                  |\n",
      "PROGRESS: | 2       | 6.25              | 4.53997                                  |\n",
      "PROGRESS: | 3       | 3.125             | 6.37094                                  |\n",
      "PROGRESS: | 4       | 1.5625            | 4.79925                                  |\n",
      "PROGRESS: | 5       | 0.78125           | 2.78522                                  |\n",
      "PROGRESS: | 6       | 0.390625          | 0.907384                                 |\n",
      "PROGRESS: | 7       | 0.195312          | 0.197626                                 |\n",
      "PROGRESS: | 8       | 0.0976562         | 0.101404                                 |\n",
      "PROGRESS: | 9       | 0.0488281         | 0.0854524                                |\n",
      "PROGRESS: | 10      | 0.0244141         | 0.116587                                 |\n",
      "PROGRESS: | 11      | 0.012207          | 0.585597                                 |\n",
      "PROGRESS: +---------+-------------------+------------------------------------------+\n",
      "PROGRESS: | Final   | 0.0488281         | 0.0854524                                |\n",
      "PROGRESS: +---------+-------------------+------------------------------------------+\n",
      "PROGRESS: Starting Optimization.\n",
      "PROGRESS: +---------+--------------+-------------------+-----------------------+-------------+\n",
      "PROGRESS: | Iter.   | Elapsed Time | Approx. Objective | Approx. Training RMSE | Step Size   |\n",
      "PROGRESS: +---------+--------------+-------------------+-----------------------+-------------+\n",
      "PROGRESS: | Initial | 91us         | 14.6201           | 3.82363               |             |\n",
      "PROGRESS: +---------+--------------+-------------------+-----------------------+-------------+\n",
      "PROGRESS: | 1       | 58.762ms     | 2.64671           | 1.62676               | 0.0488281   |\n",
      "PROGRESS: | 2       | 129.366ms    | 0.326623          | 0.571475              | 0.0290334   |\n",
      "PROGRESS: | 3       | 168.816ms    | 0.233975          | 0.483706              | 0.0214205   |\n",
      "PROGRESS: | 4       | 221.253ms    | 0.208563          | 0.456686              | 0.0172633   |\n",
      "PROGRESS: | 5       | 280.249ms    | 0.196188          | 0.442932              | 0.014603    |\n",
      "PROGRESS: | 6       | 333.179ms    | 0.188489          | 0.434154              | 0.0127367   |\n",
      "PROGRESS: | 11      | 610.522ms    | 0.170968          | 0.413482              | 0.00808399  |\n",
      "PROGRESS: | 25      | 1.44s        | 0.158462          | 0.398073              | 0.00436732  |\n",
      "PROGRESS: | 50      | 2.96s        | 0.152842          | 0.39095               | 0.00259682  |\n",
      "PROGRESS: | 51      | 3.02s        | 0.152675          | 0.390736              | 0.00255854  |\n",
      "PROGRESS: | 75      | 4.48s        | 0.150599          | 0.388071              | 0.00191591  |\n",
      "PROGRESS: | 100     | 6.00s        | 0.145027          | 0.380825              | 0.00019301  |\n",
      "PROGRESS: +---------+--------------+-------------------+-----------------------+-------------+\n",
      "PROGRESS: Optimization Complete: Maximum number of passes through the data reached.\n",
      "PROGRESS: Computing final objective value and training RMSE.\n",
      "PROGRESS:        Final objective value: 0.1444\n",
      "PROGRESS:        Final training RMSE: 0.38\n",
      "PROGRESS: Recsys training: model = factorization_recommender\n",
      "PROGRESS: Preparing data set.\n",
      "PROGRESS:     Data has 314032 observations with 30286 users and 109 items.\n",
      "PROGRESS:     Data prepared in: 0.137702s\n",
      "PROGRESS: Training factorization_recommender for recommendations.\n",
      "PROGRESS: +--------------------------------+--------------------------------------------------+----------+\n",
      "PROGRESS: | Parameter                      | Description                                      | Value    |\n",
      "PROGRESS: +--------------------------------+--------------------------------------------------+----------+\n",
      "PROGRESS: | num_factors                    | Factor Dimension                                 | 1        |\n",
      "PROGRESS: | regularization                 | L2 Regularization on Factors                     | 0        |\n",
      "PROGRESS: | solver                         | Solver used for training                         | sgd      |\n",
      "PROGRESS: | nmf                            | Use Non-Negative Factors                         | True     |\n",
      "PROGRESS: | max_iterations                 | Maximum Number of Iterations                     | 100      |\n",
      "PROGRESS: +--------------------------------+--------------------------------------------------+----------+\n",
      "PROGRESS:   Optimizing model using SGD; tuning step size.\n",
      "PROGRESS:   Using 39254 / 314032 points for tuning the step size.\n",
      "PROGRESS: +---------+-------------------+------------------------------------------+\n",
      "PROGRESS: | Attempt | Initial Step Size | Estimated Objective Value                |\n",
      "PROGRESS: +---------+-------------------+------------------------------------------+\n",
      "PROGRESS: | 0       | 25                | 11.8594                                  |\n",
      "PROGRESS: | 1       | 12.5              | 13.4711                                  |\n",
      "PROGRESS: | 2       | 6.25              | 9.5446                                   |\n",
      "PROGRESS: | 3       | 3.125             | 10.8832                                  |\n",
      "PROGRESS: | 4       | 1.5625            | 9.16243                                  |\n",
      "PROGRESS: | 5       | 0.78125           | 7.12947                                  |\n",
      "PROGRESS: | 6       | 0.390625          | 4.28119                                  |\n",
      "PROGRESS: | 7       | 0.195312          | 3.25769                                  |\n",
      "PROGRESS: | 8       | 0.0976562         | 1.64108                                  |\n",
      "PROGRESS: | 9       | 0.0488281         | 0.685699                                 |\n",
      "PROGRESS: | 10      | 0.0244141         | 0.483192                                 |\n",
      "PROGRESS: | 11      | 0.012207          | 0.651279                                 |\n",
      "PROGRESS: | 12      | 0.00610352        | 2.63088                                  |\n",
      "PROGRESS: +---------+-------------------+------------------------------------------+\n",
      "PROGRESS: | Final   | 0.0244141         | 0.483192                                 |\n",
      "PROGRESS: +---------+-------------------+------------------------------------------+\n",
      "PROGRESS: Starting Optimization.\n",
      "PROGRESS: +---------+--------------+-------------------+-----------------------+-------------+\n",
      "PROGRESS: | Iter.   | Elapsed Time | Approx. Objective | Approx. Training RMSE | Step Size   |\n",
      "PROGRESS: +---------+--------------+-------------------+-----------------------+-------------+\n",
      "PROGRESS: | Initial | 94us         | 41.5528           | 6.44615               |             |\n",
      "PROGRESS: +---------+--------------+-------------------+-----------------------+-------------+\n",
      "PROGRESS: | 1       | 58.681ms     | 7.52691           | 2.74342               | 0.0244141   |\n",
      "PROGRESS: | 2       | 109.872ms    | 1.35779           | 1.16521               | 0.0145167   |\n",
      "PROGRESS: | 3       | 164.976ms    | 0.867977          | 0.931649              | 0.0107102   |\n",
      "PROGRESS: | 4       | 219.487ms    | 0.742739          | 0.861822              | 0.00863167  |\n",
      "PROGRESS: | 5       | 269.371ms    | 0.68371           | 0.826868              | 0.00730151  |\n",
      "PROGRESS: | 6       | 322.228ms    | 0.647527          | 0.804691              | 0.00636835  |\n",
      "PROGRESS: | 11      | 576.987ms    | 0.575             | 0.758287              | 0.00404199  |\n",
      "PROGRESS: | 25      | 1.28s        | 0.527235          | 0.726109              | 0.00218366  |\n",
      "PROGRESS: | 50      | 2.52s        | 0.506096          | 0.711404              | 0.00129841  |\n",
      "PROGRESS: | 51      | 2.58s        | 0.505624          | 0.711073              | 0.00127927  |\n",
      "PROGRESS: | 75      | 3.76s        | 0.498179          | 0.705818              | 0.000957953 |\n",
      "PROGRESS: | 100     | 5.06s        | 0.493922          | 0.702796              | 0.00077204  |\n",
      "PROGRESS: +---------+--------------+-------------------+-----------------------+-------------+\n",
      "PROGRESS: Optimization Complete: Maximum number of passes through the data reached.\n",
      "PROGRESS: Computing final objective value and training RMSE.\n",
      "PROGRESS:        Final objective value: 0.478566\n",
      "PROGRESS:        Final training RMSE: 0.691784\n",
      "PROGRESS: Recsys training: model = factorization_recommender\n",
      "PROGRESS: Preparing data set.\n",
      "PROGRESS:     Data has 99274 observations with 23772 users and 43 items.\n",
      "PROGRESS:     Data prepared in: 0.066994s\n",
      "PROGRESS: Training factorization_recommender for recommendations.\n",
      "PROGRESS: +--------------------------------+--------------------------------------------------+----------+\n",
      "PROGRESS: | Parameter                      | Description                                      | Value    |\n",
      "PROGRESS: +--------------------------------+--------------------------------------------------+----------+\n",
      "PROGRESS: | num_factors                    | Factor Dimension                                 | 1        |\n",
      "PROGRESS: | regularization                 | L2 Regularization on Factors                     | 0        |\n",
      "PROGRESS: | solver                         | Solver used for training                         | sgd      |\n",
      "PROGRESS: | nmf                            | Use Non-Negative Factors                         | True     |\n",
      "PROGRESS: | max_iterations                 | Maximum Number of Iterations                     | 100      |\n",
      "PROGRESS: +--------------------------------+--------------------------------------------------+----------+\n",
      "PROGRESS:   Optimizing model using SGD; tuning step size.\n",
      "PROGRESS:   Using 12409 / 99274 points for tuning the step size.\n",
      "PROGRESS: +---------+-------------------+------------------------------------------+\n",
      "PROGRESS: | Attempt | Initial Step Size | Estimated Objective Value                |\n",
      "PROGRESS: +---------+-------------------+------------------------------------------+\n",
      "PROGRESS: | 0       | 25                | 19.7789                                  |\n",
      "PROGRESS: | 1       | 12.5              | 25.0759                                  |\n",
      "PROGRESS: | 2       | 6.25              | 20.8672                                  |\n",
      "PROGRESS: | 3       | 3.125             | 23.6949                                  |\n",
      "PROGRESS: +---------+-------------------+------------------------------------------+\n",
      "PROGRESS: | Final   | 25                | 19.7789                                  |\n",
      "PROGRESS: +---------+-------------------+------------------------------------------+\n",
      "PROGRESS: Starting Optimization.\n",
      "PROGRESS: +---------+--------------+-------------------+-----------------------+-------------+\n",
      "PROGRESS: | Iter.   | Elapsed Time | Approx. Objective | Approx. Training RMSE | Step Size   |\n",
      "PROGRESS: +---------+--------------+-------------------+-----------------------+-------------+\n",
      "PROGRESS: | Initial | 78us         | 99.7645           | 9.98822               |             |\n",
      "PROGRESS: +---------+--------------+-------------------+-----------------------+-------------+\n",
      "PROGRESS: | 1       | 50.479ms     | 50.1155           | 7.0792                | 25          |\n",
      "PROGRESS: | 2       | 140.634ms    | 34.0843           | 5.83817               | 14.8651     |\n",
      "PROGRESS: | 3       | 225.663ms    | 24.3262           | 4.93215               | 10.9673     |\n",
      "PROGRESS: | 4       | 288.365ms    | 30.8688           | 5.55597               | 8.83883     |\n",
      "PROGRESS: | 5       | 341.141ms    | 20.8502           | 4.5662                | 6.28717     |\n",
      "PROGRESS: | 6       | 424.527ms    | 26.9443           | 5.19079               | 4.61117     |\n",
      "PROGRESS: | 11      | 746.33ms     | 19.9852           | 4.47048               | 1.23053     |\n",
      "PROGRESS: | 25      | 1.79s        | 13.3636           | 3.65563               | 0.117519    |\n",
      "PROGRESS: | 50      | 3.56s        | 8.63542           | 2.93861               | 0.0698771   |\n",
      "PROGRESS: | 51      | 3.63s        | 8.51993           | 2.91889               | 0.068847    |\n",
      "PROGRESS: | 75      | 5.47s        | 6.02229           | 2.45404               | 0.0515545   |\n",
      "PROGRESS: | 100     | 7.30s        | 1.09262           | 1.04528               | 0.0103873   |\n",
      "PROGRESS: +---------+--------------+-------------------+-----------------------+-------------+\n",
      "PROGRESS: Optimization Complete: Maximum number of passes through the data reached.\n",
      "PROGRESS: Computing final objective value and training RMSE.\n",
      "PROGRESS:        Final objective value: 0.972392\n",
      "PROGRESS:        Final training RMSE: 0.9861\n"
     ]
    }
   ],
   "source": [
    "athlete_ratings, segment_ratings, models = cm.df_to_latent_features(training_df)"
   ]
  },
  {
   "cell_type": "code",
   "execution_count": 3,
   "metadata": {
    "collapsed": false
   },
   "outputs": [
    {
     "data": {
      "text/plain": [
       "{'downhill': 0.70082016570911199,\n",
       " 'total': 0.477451079461295,\n",
       " 'uphill': 0.26041068775045245}"
      ]
     },
     "execution_count": 3,
     "metadata": {},
     "output_type": "execute_result"
    }
   ],
   "source": [
    "vm.testing_rmse(models, training_df)"
   ]
  },
  {
   "cell_type": "code",
   "execution_count": 4,
   "metadata": {
    "collapsed": false
   },
   "outputs": [
    {
     "data": {
      "text/html": [
       "<div>\n",
       "<table border=\"1\" class=\"dataframe\">\n",
       "  <thead>\n",
       "    <tr style=\"text-align: right;\">\n",
       "      <th></th>\n",
       "      <th>total_rating</th>\n",
       "      <th>uphill_rating</th>\n",
       "      <th>downhill_rating</th>\n",
       "    </tr>\n",
       "  </thead>\n",
       "  <tbody>\n",
       "    <tr>\n",
       "      <th>seg_average_grade</th>\n",
       "      <td>-0.499199</td>\n",
       "      <td>-0.733777</td>\n",
       "      <td>0.402018</td>\n",
       "    </tr>\n",
       "    <tr>\n",
       "      <th>seg_distance</th>\n",
       "      <td>0.065919</td>\n",
       "      <td>0.170255</td>\n",
       "      <td>0.530836</td>\n",
       "    </tr>\n",
       "    <tr>\n",
       "      <th>seg_maximum_grade</th>\n",
       "      <td>-0.213808</td>\n",
       "      <td>-0.166586</td>\n",
       "      <td>-0.282204</td>\n",
       "    </tr>\n",
       "    <tr>\n",
       "      <th>total_rating</th>\n",
       "      <td>1.000000</td>\n",
       "      <td>0.997447</td>\n",
       "      <td>0.991088</td>\n",
       "    </tr>\n",
       "    <tr>\n",
       "      <th>uphill_rating</th>\n",
       "      <td>0.997447</td>\n",
       "      <td>1.000000</td>\n",
       "      <td>NaN</td>\n",
       "    </tr>\n",
       "    <tr>\n",
       "      <th>downhill_rating</th>\n",
       "      <td>0.991088</td>\n",
       "      <td>NaN</td>\n",
       "      <td>1.000000</td>\n",
       "    </tr>\n",
       "  </tbody>\n",
       "</table>\n",
       "</div>"
      ],
      "text/plain": [
       "                   total_rating  uphill_rating  downhill_rating\n",
       "seg_average_grade     -0.499199      -0.733777         0.402018\n",
       "seg_distance           0.065919       0.170255         0.530836\n",
       "seg_maximum_grade     -0.213808      -0.166586        -0.282204\n",
       "total_rating           1.000000       0.997447         0.991088\n",
       "uphill_rating          0.997447       1.000000              NaN\n",
       "downhill_rating        0.991088            NaN         1.000000"
      ]
     },
     "execution_count": 4,
     "metadata": {},
     "output_type": "execute_result"
    }
   ],
   "source": [
    "vm.evaluate_latent_feature_correlations(training_df, segment_ratings)"
   ]
  },
  {
   "cell_type": "code",
   "execution_count": 5,
   "metadata": {
    "collapsed": false
   },
   "outputs": [
    {
     "data": {
      "text/plain": [
       "{'downhill_rating':       segment_id  downhill_rating\n",
       " rank                             \n",
       " 1        3305098       100.000000\n",
       " 2        6135256        96.421942\n",
       " 3        8429549        89.194097\n",
       " 4        1745022        84.940604\n",
       " 5        4173351        80.816413\n",
       " 6        4259807        75.494526\n",
       " 7        5857327        72.409896\n",
       " 8        2435434        51.502080\n",
       " 9        8692386        49.366423\n",
       " 10       6325954        48.138228\n",
       " 11       1759580        46.643174\n",
       " 12        821934        45.441417\n",
       " 13       4599878        45.291980\n",
       " 14       5099924        42.961948\n",
       " 15        881888        41.516408\n",
       " 16        633435        39.024807\n",
       " 17       5079282        38.910438\n",
       " 18       7969432        38.364444\n",
       " 19       2665113        37.906017\n",
       " 20       1105154        37.688685,\n",
       " 'total_rating':       segment_id  total_rating\n",
       " rank                          \n",
       " 1        3305098    100.000000\n",
       " 2        6135256     97.772368\n",
       " 3        8429549     90.198844\n",
       " 4        1745022     83.635368\n",
       " 5        4173351     82.380715\n",
       " 6        5857327     80.661997\n",
       " 7        4259807     77.780107\n",
       " 8        2435434     52.593319\n",
       " 9        1105154     50.709761\n",
       " 10       8692386     49.143552\n",
       " 11        821934     47.816216\n",
       " 12       6325954     44.530582\n",
       " 13        633435     43.655740\n",
       " 14       4599878     42.538772\n",
       " 15        991174     42.495342\n",
       " 16       1759580     41.654068\n",
       " 17       7969432     41.469380\n",
       " 18       5079282     41.290840\n",
       " 19       5099924     40.922822\n",
       " 20       1003240     40.870657,\n",
       " 'uphill_rating':       segment_id  uphill_rating\n",
       " rank                           \n",
       " 1        4062646     100.000000\n",
       " 2         975395      90.257878\n",
       " 3        8050750      89.296508\n",
       " 4        6875972      83.105389\n",
       " 5        7074191      75.154337\n",
       " 6        4783121      72.545953\n",
       " 7        2451142      71.368285\n",
       " 8        5836703      61.132091\n",
       " 9         622149      60.643120\n",
       " 10       6768781      55.265565\n",
       " 11       6366843      53.195138\n",
       " 12       2707292      53.017624\n",
       " 13       5642079      52.874845\n",
       " 14       1173191      52.046712\n",
       " 15        640981      51.281920\n",
       " 16       6048743      50.850851\n",
       " 17       4793848      49.711014\n",
       " 18       8800675      49.288651\n",
       " 19       5611730      47.722039\n",
       " 20       4779241      46.196557}"
      ]
     },
     "execution_count": 5,
     "metadata": {},
     "output_type": "execute_result"
    }
   ],
   "source": [
    "lb = r.Leaderboards(training_df[['athlete_id', 'segment_id', 'seg_average_grade', 'average_speed']])\n",
    "lb.get('segment', segment_ratings)"
   ]
  },
  {
   "cell_type": "code",
   "execution_count": null,
   "metadata": {
    "collapsed": false,
    "scrolled": true
   },
   "outputs": [
    {
     "data": {
      "image/png": "[encoded data removed]",
      "text/plain": [
       "<matplotlib.figure.Figure at 0x7fc83c4dd2d0>"
      ]
     },
     "metadata": {},
     "output_type": "display_data"
    },
    {
     "data": {
      "image/png": "[encoded data removed]",
      "text/plain": [
       "<matplotlib.figure.Figure at 0x7fc81f264d50>"
      ]
     },
     "metadata": {},
     "output_type": "display_data"
    }
   ],
   "source": [
    "vm.plot_ratings(athlete_ratings)"
   ]
  },
  {
   "cell_type": "code",
   "execution_count": null,
   "metadata": {
    "collapsed": true
   },
   "outputs": [],
   "source": [
    "vm.plot_ratings(segment_ratings)"
   ]
  },
  {
   "cell_type": "code",
   "execution_count": null,
   "metadata": {
    "collapsed": true
   },
   "outputs": [],
   "source": [
    "df.query('segment_id == 7074191 & average_speed < 2.2')"
   ]
  },
  {
   "cell_type": "code",
   "execution_count": null,
   "metadata": {
    "collapsed": false
   },
   "outputs": [],
   "source": [
    "segment_ratings.min()"
   ]
  },
  {
   "cell_type": "code",
   "execution_count": null,
   "metadata": {
    "collapsed": false
   },
   "outputs": [],
   "source": [
    "athlete_ratings.ix[6637281]"
   ]
  },
  {
   "cell_type": "code",
   "execution_count": null,
   "metadata": {
    "collapsed": false
   },
   "outputs": [],
   "source": [
    "(segment_ratings.uphill_rating > -.28).mean()"
   ]
  },
  {
   "cell_type": "code",
   "execution_count": null,
   "metadata": {
    "collapsed": false
   },
   "outputs": [],
   "source": [
    "print(segment_ratings.ix[975395])\n",
    "print(segment_ratings.ix[651728])\n",
    "print((segment_ratings.uphill_rating>4.88).mean())\n",
    "print((segment_ratings.total_rating>-0.42).mean())"
   ]
  },
  {
   "cell_type": "code",
   "execution_count": null,
   "metadata": {
    "collapsed": false
   },
   "outputs": [],
   "source": [
    "for rating in ['uphill_rating', 'total_rating', 'downhill_rating']:\n",
    "    pd.merge(athlete_ratings[rating].reset_index(), training_df.groupby('athlete_id').average_speed.mean().reset_index(), on='athlete_id').plot(kind='scatter', x=rating, y='average_speed')\n",
    "    \n"
   ]
  },
  {
   "cell_type": "code",
   "execution_count": null,
   "metadata": {
    "collapsed": true
   },
   "outputs": [],
   "source": []
  }
 ],
 "metadata": {
  "kernelspec": {
   "display_name": "Python 2",
   "language": "python",
   "name": "python2"
  },
  "language_info": {
   "codemirror_mode": {
    "name": "ipython",
    "version": 2
   },
   "file_extension": ".py",
   "mimetype": "text/x-python",
   "name": "python",
   "nbconvert_exporter": "python",
   "pygments_lexer": "ipython2",
   "version": "2.7.9"
  }
 },
 "nbformat": 4,
 "nbformat_minor": 0
}
