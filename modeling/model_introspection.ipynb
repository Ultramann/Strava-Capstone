{
 "cells": [
  {
   "cell_type": "code",
   "execution_count": 1,
   "metadata": {
    "collapsed": true
   },
   "outputs": [
    {
     "name": "stderr",
     "output_type": "stream",
     "text": [
      "[INFO] This trial license of GraphLab Create is assigned to lax.cary@gmail.com and will expire on October 09, 2015. Please contact trial@dato.com for licensing options or to request a free non-commercial license for personal or academic use.\n",
      "\n",
      "[INFO] Start server at: ipc:///tmp/graphlab_server-1753 - Server binary: /home/ubuntu/anaconda/lib/python2.7/site-packages/graphlab/unity_server - Server log: /tmp/graphlab_server_1441894757.log\n",
      "[INFO] GraphLab Server Version: 1.5.2\n"
     ]
    },
    {
     "name": "stdout",
     "output_type": "stream",
     "text": [
      "PROGRESS: Recsys training: model = factorization_recommender\n",
      "PROGRESS: Preparing data set.\n",
      "PROGRESS:     Data has 329874 observations with 31301 users and 109 items.\n",
      "PROGRESS:     Data prepared in: 0.150309s\n",
      "PROGRESS: Training factorization_recommender for recommendations.\n",
      "PROGRESS: +--------------------------------+--------------------------------------------------+----------+\n",
      "PROGRESS: | Parameter                      | Description                                      | Value    |\n",
      "PROGRESS: +--------------------------------+--------------------------------------------------+----------+\n",
      "PROGRESS: | num_factors                    | Factor Dimension                                 | 2        |\n",
      "PROGRESS: | regularization                 | L2 Regularization on Factors                     | 0        |\n",
      "PROGRESS: | solver                         | Solver used for training                         | sgd      |\n",
      "PROGRESS: | nmf                            | Use Non-Negative Factors                         | True     |\n",
      "PROGRESS: | max_iterations                 | Maximum Number of Iterations                     | 50       |\n",
      "PROGRESS: +--------------------------------+--------------------------------------------------+----------+\n",
      "PROGRESS:   Optimizing model using SGD; tuning step size.\n",
      "PROGRESS:   Using 41234 / 329874 points for tuning the step size.\n",
      "PROGRESS: +---------+-------------------+------------------------------------------+\n",
      "PROGRESS: | Attempt | Initial Step Size | Estimated Objective Value                |\n",
      "PROGRESS: +---------+-------------------+------------------------------------------+\n",
      "PROGRESS: | 0       | 25                | 11.7996                                  |\n",
      "PROGRESS: | 1       | 12.5              | 12.9151                                  |\n",
      "PROGRESS: | 2       | 6.25              | 14.9577                                  |\n",
      "PROGRESS: | 3       | 3.125             | 16.44                                    |\n",
      "PROGRESS: +---------+-------------------+------------------------------------------+\n",
      "PROGRESS: | Final   | 25                | 11.7996                                  |\n",
      "PROGRESS: +---------+-------------------+------------------------------------------+\n",
      "PROGRESS: Starting Optimization.\n",
      "PROGRESS: +---------+--------------+-------------------+-----------------------+-------------+\n",
      "PROGRESS: | Iter.   | Elapsed Time | Approx. Objective | Approx. Training RMSE | Step Size   |\n",
      "PROGRESS: +---------+--------------+-------------------+-----------------------+-------------+\n",
      "PROGRESS: | Initial | 91us         | 41.0736           | 6.40887               |             |\n",
      "PROGRESS: +---------+--------------+-------------------+-----------------------+-------------+\n",
      "PROGRESS: | 1       | 53.709ms     | 20.5362           | 4.53154               | 25          |\n",
      "PROGRESS: | 2       | 105.577ms    | 16.8458           | 4.10434               | 14.8651     |\n",
      "PROGRESS: | 3       | 153.865ms    | 15.8265           | 3.97825               | 10.9673     |\n",
      "PROGRESS: | 4       | 206.816ms    | 16.1089           | 4.01359               | 8.83883     |\n",
      "PROGRESS: | 5       | 265.822ms    | 15.7449           | 3.96799               | 6.28717     |\n",
      "PROGRESS: | 6       | 321.746ms    | 16.1977           | 4.02464               | 4.61117     |\n",
      "PROGRESS: | 11      | 575.037ms    | 15.4379           | 3.9291                | 1.23053     |\n",
      "PROGRESS: | 25      | 1.27s        | 13.0847           | 3.61728               | 0.470075    |\n",
      "PROGRESS: | 50      | 2.51s        | 7.2139            | 2.68587               | 0.166197    |\n",
      "PROGRESS: +---------+--------------+-------------------+-----------------------+-------------+\n",
      "PROGRESS: Optimization Complete: Maximum number of passes through the data reached.\n",
      "PROGRESS: Computing final objective value and training RMSE.\n",
      "PROGRESS:        Final objective value: 8.14249\n",
      "PROGRESS:        Final training RMSE: 2.8535\n"
     ]
    }
   ],
   "source": [
    "import seaborn\n",
    "import first_model\n",
    "%matplotlib inline \n",
    "%run first_model.py\n",
    "%load_ext autoreload\n",
    "%autoreload 2"
   ]
  },
  {
   "cell_type": "code",
   "execution_count": 73,
   "metadata": {
    "collapsed": false,
    "scrolled": true
   },
   "outputs": [
    {
     "name": "stdout",
     "output_type": "stream",
     "text": [
      "PROGRESS: Recsys training: model = factorization_recommender\n",
      "PROGRESS: Preparing data set.\n",
      "PROGRESS:     Data has 329874 observations with 31301 users and 109 items.\n",
      "PROGRESS:     Data prepared in: 0.153821s\n",
      "PROGRESS: Training factorization_recommender for recommendations.\n",
      "PROGRESS: +--------------------------------+--------------------------------------------------+----------+\n",
      "PROGRESS: | Parameter                      | Description                                      | Value    |\n",
      "PROGRESS: +--------------------------------+--------------------------------------------------+----------+\n",
      "PROGRESS: | num_factors                    | Factor Dimension                                 | 2        |\n",
      "PROGRESS: | regularization                 | L2 Regularization on Factors                     | 0        |\n",
      "PROGRESS: | solver                         | Solver used for training                         | adagrad  |\n",
      "PROGRESS: | linear_regularization          | L2 Regularization on Linear Coefficients         | 1e-10    |\n",
      "PROGRESS: | nmf                            | Use Non-Negative Factors                         | True     |\n",
      "PROGRESS: | side_data_factorization        | Assign Factors for Side Data                     | True     |\n",
      "PROGRESS: | max_iterations                 | Maximum Number of Iterations                     | 50       |\n",
      "PROGRESS: +--------------------------------+--------------------------------------------------+----------+\n",
      "PROGRESS:   Optimizing model using SGD; tuning step size.\n",
      "PROGRESS:   Using 41234 / 329874 points for tuning the step size.\n",
      "PROGRESS: +---------+-------------------+------------------------------------------+\n",
      "PROGRESS: | Attempt | Initial Step Size | Estimated Objective Value                |\n",
      "PROGRESS: +---------+-------------------+------------------------------------------+\n",
      "PROGRESS: | 0       | 7.14286           | No Decrease (145.122 >= 40.9777)         |\n",
      "PROGRESS: | 1       | 1.78571           | 27.9602                                  |\n",
      "PROGRESS: | 2       | 0.892857          | 22.2001                                  |\n",
      "PROGRESS: | 3       | 0.446429          | 23.7833                                  |\n",
      "PROGRESS: | 4       | 0.223214          | 31.5691                                  |\n",
      "PROGRESS: | 5       | 0.111607          | 23.5004                                  |\n",
      "PROGRESS: +---------+-------------------+------------------------------------------+\n",
      "PROGRESS: | Final   | 0.892857          | 22.2001                                  |\n",
      "PROGRESS: +---------+-------------------+------------------------------------------+\n",
      "PROGRESS: Starting Optimization.\n",
      "PROGRESS: +---------+--------------+-------------------+-----------------------+-------------+\n",
      "PROGRESS: | Iter.   | Elapsed Time | Approx. Objective | Approx. Training RMSE | Step Size   |\n",
      "PROGRESS: +---------+--------------+-------------------+-----------------------+-------------+\n",
      "PROGRESS: | Initial | 90us         | 41.0736           | 6.40887               |             |\n",
      "PROGRESS: +---------+--------------+-------------------+-----------------------+-------------+\n",
      "PROGRESS: | 1       | 104.966ms    | 46.9992           | 6.8556                | 0.892857    |\n",
      "PROGRESS: | 2       | 213.873ms    | 34.1923           | 5.84742               | 0.892857    |\n",
      "PROGRESS: | 3       | 310.939ms    | 32.8007           | 5.72719               | 0.892857    |\n",
      "PROGRESS: | 4       | 420.909ms    | 32.5388           | 5.70428               | 0.892857    |\n",
      "PROGRESS: | 5       | 520.866ms    | 32.4182           | 5.6937                | 0.892857    |\n",
      "PROGRESS: | 6       | 619.577ms    | 32.3533           | 5.688                 | 0.892857    |\n",
      "PROGRESS: | 10      | 1.01s        | 32.1947           | 5.67404               | 0.892857    |\n",
      "PROGRESS: | 11      | 1.11s        | 32.1638           | 5.67132               | 0.892857    |\n",
      "PROGRESS: | 20      | 2.03s        | 32.0298           | 5.65949               | 0.892857    |\n",
      "PROGRESS: | 30      | 3.06s        | 31.9562           | 5.65299               | 0.892857    |\n",
      "PROGRESS: | 40      | 4.07s        | 31.9179           | 5.64959               | 0.892857    |\n",
      "PROGRESS: | 50      | 5.09s        | 31.8877           | 5.64692               | 0.892857    |\n",
      "PROGRESS: +---------+--------------+-------------------+-----------------------+-------------+\n",
      "PROGRESS: Optimization Complete: Maximum number of passes through the data reached.\n",
      "PROGRESS: Computing final objective value and training RMSE.\n",
      "PROGRESS:        Final objective value: 31.8534\n",
      "PROGRESS:        Final training RMSE: 5.64388\n"
     ]
    }
   ],
   "source": [
    "athlete_ratings, segment_ratings = first_model.df_to_latent_features(df)"
   ]
  },
  {
   "cell_type": "code",
   "execution_count": 74,
   "metadata": {
    "collapsed": false,
    "scrolled": true
   },
   "outputs": [
    {
     "data": {
      "text/plain": [
       "array([[<matplotlib.axes._subplots.AxesSubplot object at 0x7fb6b68a2a10>,\n",
       "        <matplotlib.axes._subplots.AxesSubplot object at 0x7fb6b5fcba10>]], dtype=object)"
      ]
     },
     "execution_count": 74,
     "metadata": {},
     "output_type": "execute_result"
    },
    {
     "data": {
      "image/png": "[encoded data removed]",
      "text/plain": [
       "<matplotlib.figure.Figure at 0x7fb6b622f950>"
      ]
     },
     "metadata": {},
     "output_type": "display_data"
    }
   ],
   "source": [
    "athlete_ratings.hist(bins=50, figsize=(20, 5))"
   ]
  },
  {
   "cell_type": "code",
   "execution_count": 75,
   "metadata": {
    "collapsed": false,
    "scrolled": false
   },
   "outputs": [
    {
     "data": {
      "text/plain": [
       "array([[<matplotlib.axes._subplots.AxesSubplot object at 0x7fb6b5eb0ad0>,\n",
       "        <matplotlib.axes._subplots.AxesSubplot object at 0x7fb6b5df7b10>]], dtype=object)"
      ]
     },
     "execution_count": 75,
     "metadata": {},
     "output_type": "execute_result"
    },
    {
     "data": {
      "image/png": "[encoded data removed]",
      "text/plain": [
       "<matplotlib.figure.Figure at 0x7fb6b6316a90>"
      ]
     },
     "metadata": {},
     "output_type": "display_data"
    }
   ],
   "source": [
    "segment_ratings.hist(bins=30, figsize=(20, 5))"
   ]
  },
  {
   "cell_type": "code",
   "execution_count": null,
   "metadata": {
    "collapsed": true
   },
   "outputs": [],
   "source": []
  }
 ],
 "metadata": {
  "kernelspec": {
   "display_name": "Python 2",
   "language": "python",
   "name": "python2"
  },
  "language_info": {
   "codemirror_mode": {
    "name": "ipython",
    "version": 2
   },
   "file_extension": ".py",
   "mimetype": "text/x-python",
   "name": "python",
   "nbconvert_exporter": "python",
   "pygments_lexer": "ipython2",
   "version": "2.7.9"
  }
 },
 "nbformat": 4,
 "nbformat_minor": 0
}
