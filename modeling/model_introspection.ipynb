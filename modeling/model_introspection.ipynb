{
 "cells": [
  {
   "cell_type": "code",
   "execution_count": 1,
   "metadata": {
    "collapsed": false,
    "scrolled": true
   },
   "outputs": [
    {
     "name": "stdout",
     "output_type": "stream",
     "text": [
      "> /home/ubuntu/capstone/modeling/first_model.py(50)df_to_latent_features()\n",
      "-> sf = gl.SFrame(agg_df).dropna()\n",
      "(Pdb) agg_df.head()\n",
      "   segment_id  athlete_id  average_speed\n",
      "0         118           8       2.601971\n",
      "1         118          12       1.957782\n",
      "2         118          17       2.400185\n",
      "3         118          19       3.036262\n",
      "4         118          21       2.698240\n",
      "(Pdb) c\n"
     ]
    },
    {
     "name": "stderr",
     "output_type": "stream",
     "text": [
      "[INFO] This trial license of GraphLab Create is assigned to lax.cary@gmail.com and will expire on October 09, 2015. Please contact trial@dato.com for licensing options or to request a free non-commercial license for personal or academic use.\n",
      "\n",
      "[INFO] Start server at: ipc:///tmp/graphlab_server-3811 - Server binary: /home/ubuntu/anaconda/lib/python2.7/site-packages/graphlab/unity_server - Server log: /tmp/graphlab_server_1441849273.log\n",
      "[INFO] GraphLab Server Version: 1.5.2\n"
     ]
    },
    {
     "name": "stdout",
     "output_type": "stream",
     "text": [
      "PROGRESS: Recsys training: model = factorization_recommender\n",
      "PROGRESS: Preparing data set.\n",
      "PROGRESS:     Data has 329874 observations with 31301 users and 109 items.\n",
      "PROGRESS:     Data prepared in: 0.145436s\n",
      "PROGRESS: Training factorization_recommender for recommendations.\n",
      "PROGRESS: +--------------------------------+--------------------------------------------------+----------+\n",
      "PROGRESS: | Parameter                      | Description                                      | Value    |\n",
      "PROGRESS: +--------------------------------+--------------------------------------------------+----------+\n",
      "PROGRESS: | num_factors                    | Factor Dimension                                 | 2        |\n",
      "PROGRESS: | regularization                 | L2 Regularization on Factors                     | 0        |\n",
      "PROGRESS: | solver                         | Solver used for training                         | sgd      |\n",
      "PROGRESS: | nmf                            | Use Non-Negative Factors                         | True     |\n",
      "PROGRESS: | max_iterations                 | Maximum Number of Iterations                     | 50       |\n",
      "PROGRESS: +--------------------------------+--------------------------------------------------+----------+\n",
      "PROGRESS:   Optimizing model using SGD; tuning step size.\n",
      "PROGRESS:   Using 41234 / 329874 points for tuning the step size.\n",
      "PROGRESS: +---------+-------------------+------------------------------------------+\n",
      "PROGRESS: | Attempt | Initial Step Size | Estimated Objective Value                |\n",
      "PROGRESS: +---------+-------------------+------------------------------------------+\n",
      "PROGRESS: | 0       | 25                | 14.3996                                  |\n",
      "PROGRESS: | 1       | 12.5              | 21.0984                                  |\n",
      "PROGRESS: | 2       | 6.25              | 15.5092                                  |\n",
      "PROGRESS: | 3       | 3.125             | 12.5825                                  |\n",
      "PROGRESS: | 4       | 1.5625            | 11.6838                                  |\n",
      "PROGRESS: | 5       | 0.78125           | 7.54324                                  |\n",
      "PROGRESS: | 6       | 0.390625          | 5.99114                                  |\n",
      "PROGRESS: | 7       | 0.195312          | 4.92167                                  |\n",
      "PROGRESS: | 8       | 0.0976562         | 1.03691                                  |\n",
      "PROGRESS: | 9       | 0.0488281         | 0.367409                                 |\n",
      "PROGRESS: | 10      | 0.0244141         | 0.532694                                 |\n",
      "PROGRESS: | 11      | 0.012207          | 0.88324                                  |\n",
      "PROGRESS: +---------+-------------------+------------------------------------------+\n",
      "PROGRESS: | Final   | 0.0488281         | 0.367409                                 |\n",
      "PROGRESS: +---------+-------------------+------------------------------------------+\n",
      "PROGRESS: Starting Optimization.\n",
      "PROGRESS: +---------+--------------+-------------------+-----------------------+-------------+\n",
      "PROGRESS: | Iter.   | Elapsed Time | Approx. Objective | Approx. Training RMSE | Step Size   |\n",
      "PROGRESS: +---------+--------------+-------------------+-----------------------+-------------+\n",
      "PROGRESS: | Initial | 96us         | 41.0736           | 6.40887               |             |\n",
      "PROGRESS: +---------+--------------+-------------------+-----------------------+-------------+\n",
      "PROGRESS: | 1       | 53.08ms      | 7.62674           | 2.76148               | 0.0488281   |\n",
      "PROGRESS: | 2       | 114.67ms     | 1.81677           | 1.34783               | 0.0290334   |\n",
      "PROGRESS: | 3       | 155.74ms     | 1.08136           | 1.03988               | 0.0214205   |\n",
      "PROGRESS: | 4       | 213.014ms    | 0.824642          | 0.908097              | 0.0172633   |\n",
      "PROGRESS: | 5       | 261.5ms      | 0.713384          | 0.844621              | 0.014603    |\n",
      "PROGRESS: | 6       | 309.867ms    | 0.646345          | 0.803956              | 0.0127367   |\n",
      "PROGRESS: | 11      | 553.97ms     | 0.512812          | 0.716109              | 0.00808399  |\n",
      "PROGRESS: | 25      | 1.25s        | 0.436018          | 0.660317              | 0.00436732  |\n",
      "PROGRESS: | 50      | 2.50s        | 0.404469          | 0.635979              | 0.00259682  |\n",
      "PROGRESS: +---------+--------------+-------------------+-----------------------+-------------+\n",
      "PROGRESS: Optimization Complete: Maximum number of passes through the data reached.\n",
      "PROGRESS: Computing final objective value and training RMSE.\n",
      "PROGRESS:        Final objective value: 0.386906\n",
      "PROGRESS:        Final training RMSE: 0.622018\n"
     ]
    }
   ],
   "source": [
    "import seaborn\n",
    "import first_model\n",
    "%matplotlib inline \n",
    "%run first_model.py\n",
    "%load_ext autoreload\n",
    "%autoreload 2"
   ]
  },
  {
   "cell_type": "code",
   "execution_count": 33,
   "metadata": {
    "collapsed": false,
    "scrolled": true
   },
   "outputs": [
    {
     "data": {
      "text/plain": [
       "array([[<matplotlib.axes._subplots.AxesSubplot object at 0x7fe11cb73c50>,\n",
       "        <matplotlib.axes._subplots.AxesSubplot object at 0x7fe11caa1e10>]], dtype=object)"
      ]
     },
     "execution_count": 33,
     "metadata": {},
     "output_type": "execute_result"
    },
    {
     "data": {
      "image/png": "[encoded data removed]",
      "text/plain": [
       "<matplotlib.figure.Figure at 0x7fe11d4d8e50>"
      ]
     },
     "metadata": {},
     "output_type": "display_data"
    }
   ],
   "source": [
    "athlete_ratings.hist(bins=50)"
   ]
  },
  {
   "cell_type": "code",
   "execution_count": 34,
   "metadata": {
    "collapsed": false,
    "scrolled": false
   },
   "outputs": [
    {
     "data": {
      "text/plain": [
       "array([[<matplotlib.axes._subplots.AxesSubplot object at 0x7fe11c918690>,\n",
       "        <matplotlib.axes._subplots.AxesSubplot object at 0x7fe11c6e4590>]], dtype=object)"
      ]
     },
     "execution_count": 34,
     "metadata": {},
     "output_type": "execute_result"
    },
    {
     "data": {
      "image/png": "[encoded data removed]",
      "text/plain": [
       "<matplotlib.figure.Figure at 0x7fe11c9b8610>"
      ]
     },
     "metadata": {},
     "output_type": "display_data"
    }
   ],
   "source": [
    "segment_ratings.hist(bins=20)"
   ]
  },
  {
   "cell_type": "code",
   "execution_count": 4,
   "metadata": {
    "collapsed": false
   },
   "outputs": [
    {
     "data": {
      "text/plain": [
       "rating_1    92\n",
       "rating_2     0\n",
       "dtype: int64"
      ]
     },
     "execution_count": 4,
     "metadata": {},
     "output_type": "execute_result"
    }
   ],
   "source": [
    "(athlete_ratings==0).sum()"
   ]
  },
  {
   "cell_type": "code",
   "execution_count": 5,
   "metadata": {
    "collapsed": false,
    "scrolled": true
   },
   "outputs": [
    {
     "data": {
      "text/plain": [
       "(31301, 2)"
      ]
     },
     "execution_count": 5,
     "metadata": {},
     "output_type": "execute_result"
    }
   ],
   "source": [
    "athlete_ratings.shape"
   ]
  },
  {
   "cell_type": "code",
   "execution_count": 32,
   "metadata": {
    "collapsed": false,
    "scrolled": true
   },
   "outputs": [
    {
     "name": "stdout",
     "output_type": "stream",
     "text": [
      "PROGRESS: Recsys training: model = factorization_recommender\n",
      "PROGRESS: Preparing data set.\n",
      "PROGRESS:     Data has 329874 observations with 31301 users and 109 items.\n",
      "PROGRESS:     Data prepared in: 0.149243s\n",
      "PROGRESS: Training factorization_recommender for recommendations.\n",
      "PROGRESS: +--------------------------------+--------------------------------------------------+----------+\n",
      "PROGRESS: | Parameter                      | Description                                      | Value    |\n",
      "PROGRESS: +--------------------------------+--------------------------------------------------+----------+\n",
      "PROGRESS: | num_factors                    | Factor Dimension                                 | 2        |\n",
      "PROGRESS: | regularization                 | L2 Regularization on Factors                     | 0        |\n",
      "PROGRESS: | solver                         | Solver used for training                         | sgd      |\n",
      "PROGRESS: | nmf                            | Use Non-Negative Factors                         | True     |\n",
      "PROGRESS: | max_iterations                 | Maximum Number of Iterations                     | 50       |\n",
      "PROGRESS: +--------------------------------+--------------------------------------------------+----------+\n",
      "PROGRESS:   Optimizing model using SGD; tuning step size.\n",
      "PROGRESS:   Using 41234 / 329874 points for tuning the step size.\n",
      "PROGRESS: +---------+-------------------+------------------------------------------+\n",
      "PROGRESS: | Attempt | Initial Step Size | Estimated Objective Value                |\n",
      "PROGRESS: +---------+-------------------+------------------------------------------+\n",
      "PROGRESS: | 0       | 25                | 16.0301                                  |\n",
      "PROGRESS: | 1       | 12.5              | 20.0344                                  |\n",
      "PROGRESS: | 2       | 6.25              | 18.7388                                  |\n",
      "PROGRESS: | 3       | 3.125             | 14.9523                                  |\n",
      "PROGRESS: | 4       | 1.5625            | 11.9119                                  |\n",
      "PROGRESS: | 5       | 0.78125           | 11.2314                                  |\n",
      "PROGRESS: | 6       | 0.390625          | 5.74317                                  |\n",
      "PROGRESS: | 7       | 0.195312          | 3.77067                                  |\n",
      "PROGRESS: | 8       | 0.0976562         | 1.28637                                  |\n",
      "PROGRESS: | 9       | 0.0488281         | 0.519132                                 |\n",
      "PROGRESS: | 10      | 0.0244141         | 0.42166                                  |\n",
      "PROGRESS: | 11      | 0.012207          | 0.889973                                 |\n",
      "PROGRESS: +---------+-------------------+------------------------------------------+\n",
      "PROGRESS: | Final   | 0.0244141         | 0.42166                                  |\n",
      "PROGRESS: +---------+-------------------+------------------------------------------+\n",
      "PROGRESS: Starting Optimization.\n",
      "PROGRESS: +---------+--------------+-------------------+-----------------------+-------------+\n",
      "PROGRESS: | Iter.   | Elapsed Time | Approx. Objective | Approx. Training RMSE | Step Size   |\n",
      "PROGRESS: +---------+--------------+-------------------+-----------------------+-------------+\n",
      "PROGRESS: | Initial | 124us        | 41.0736           | 6.40887               |             |\n",
      "PROGRESS: +---------+--------------+-------------------+-----------------------+-------------+\n",
      "PROGRESS: | 1       | 52.865ms     | 7.50586           | 2.73956               | 0.0244141   |\n",
      "PROGRESS: | 2       | 113.017ms    | 1.26067           | 1.12276               | 0.0145167   |\n",
      "PROGRESS: | 3       | 155.022ms    | 0.803775          | 0.89653               | 0.0107102   |\n",
      "PROGRESS: | 4       | 210.995ms    | 0.67949           | 0.824311              | 0.00863167  |\n",
      "PROGRESS: | 5       | 261.095ms    | 0.61055           | 0.781377              | 0.00730151  |\n",
      "PROGRESS: | 6       | 312.654ms    | 0.570242          | 0.755144              | 0.00636835  |\n",
      "PROGRESS: | 11      | 554.209ms    | 0.478883          | 0.692013              | 0.00404199  |\n",
      "PROGRESS: | 25      | 1.26s        | 0.419043          | 0.647336              | 0.00218366  |\n",
      "PROGRESS: | 50      | 2.54s        | 0.39345           | 0.627256              | 0.00129841  |\n",
      "PROGRESS: +---------+--------------+-------------------+-----------------------+-------------+\n",
      "PROGRESS: Optimization Complete: Maximum number of passes through the data reached.\n",
      "PROGRESS: Computing final objective value and training RMSE.\n",
      "PROGRESS:        Final objective value: 0.373486\n",
      "PROGRESS:        Final training RMSE: 0.611135\n"
     ]
    }
   ],
   "source": [
    "athlete_ratings, segment_ratings = first_model.df_to_latent_features(df)"
   ]
  },
  {
   "cell_type": "code",
   "execution_count": null,
   "metadata": {
    "collapsed": true
   },
   "outputs": [],
   "source": []
  }
 ],
 "metadata": {
  "kernelspec": {
   "display_name": "Python 2",
   "language": "python",
   "name": "python2"
  },
  "language_info": {
   "codemirror_mode": {
    "name": "ipython",
    "version": 2
   },
   "file_extension": ".py",
   "mimetype": "text/x-python",
   "name": "python",
   "nbconvert_exporter": "python",
   "pygments_lexer": "ipython2",
   "version": "2.7.9"
  }
 },
 "nbformat": 4,
 "nbformat_minor": 0
}
