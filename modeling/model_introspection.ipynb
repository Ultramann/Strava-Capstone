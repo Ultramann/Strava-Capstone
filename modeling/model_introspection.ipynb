{
 "cells": [
  {
   "cell_type": "code",
   "execution_count": 2,
   "metadata": {
    "collapsed": true
   },
   "outputs": [
    {
     "name": "stderr",
     "output_type": "stream",
     "text": [
      "[INFO] This trial license of GraphLab Create is assigned to lax.cary@gmail.com and will expire on October 09, 2015. Please contact trial@dato.com for licensing options or to request a free non-commercial license for personal or academic use.\n",
      "\n",
      "[INFO] Start server at: ipc:///tmp/graphlab_server-1864 - Server binary: /home/ubuntu/anaconda/lib/python2.7/site-packages/graphlab/unity_server - Server log: /tmp/graphlab_server_1442329878.log\n",
      "[INFO] GraphLab Server Version: 1.5.2\n"
     ]
    },
    {
     "name": "stdout",
     "output_type": "stream",
     "text": [
      "PROGRESS: Recsys training: model = factorization_recommender\n",
      "PROGRESS: Preparing data set.\n",
      "PROGRESS:     Data has 319332 observations with 30287 users and 109 items.\n",
      "PROGRESS:     Data prepared in: 0.138466s\n",
      "PROGRESS: Training factorization_recommender for recommendations.\n",
      "PROGRESS: +--------------------------------+--------------------------------------------------+----------+\n",
      "PROGRESS: | Parameter                      | Description                                      | Value    |\n",
      "PROGRESS: +--------------------------------+--------------------------------------------------+----------+\n",
      "PROGRESS: | num_factors                    | Factor Dimension                                 | 1        |\n",
      "PROGRESS: | regularization                 | L2 Regularization on Factors                     | 0        |\n",
      "PROGRESS: | solver                         | Solver used for training                         | sgd      |\n",
      "PROGRESS: | max_iterations                 | Maximum Number of Iterations                     | 100      |\n",
      "PROGRESS: +--------------------------------+--------------------------------------------------+----------+\n",
      "PROGRESS:   Optimizing model using SGD; tuning step size.\n",
      "PROGRESS:   Using 39916 / 319332 points for tuning the step size.\n",
      "PROGRESS: +---------+-------------------+------------------------------------------+\n",
      "PROGRESS: | Attempt | Initial Step Size | Estimated Objective Value                |\n",
      "PROGRESS: +---------+-------------------+------------------------------------------+\n",
      "PROGRESS: | 0       | 25                | 4.30283                                  |\n",
      "PROGRESS: | 1       | 12.5              | 4.30768                                  |\n",
      "PROGRESS: | 2       | 6.25              | 3.63103                                  |\n",
      "PROGRESS: | 3       | 3.125             | 2.67861                                  |\n",
      "PROGRESS: | 4       | 1.5625            | 1.7874                                   |\n",
      "PROGRESS: | 5       | 0.78125           | 0.714899                                 |\n",
      "PROGRESS: | 6       | 0.390625          | 0.42209                                  |\n",
      "PROGRESS: | 7       | 0.195312          | 0.221739                                 |\n",
      "PROGRESS: | 8       | 0.0976562         | 0.239289                                 |\n",
      "PROGRESS: | 9       | 0.0488281         | 0.578187                                 |\n",
      "PROGRESS: +---------+-------------------+------------------------------------------+\n",
      "PROGRESS: | Final   | 0.195312          | 0.221739                                 |\n",
      "PROGRESS: +---------+-------------------+------------------------------------------+\n",
      "PROGRESS: Starting Optimization.\n",
      "PROGRESS: +---------+--------------+-------------------+-----------------------+-------------+\n",
      "PROGRESS: | Iter.   | Elapsed Time | Approx. Objective | Approx. Training RMSE | Step Size   |\n",
      "PROGRESS: +---------+--------------+-------------------+-----------------------+-------------+\n",
      "PROGRESS: | Initial | 90us         | 11.966            | 3.45919               |             |\n",
      "PROGRESS: +---------+--------------+-------------------+-----------------------+-------------+\n",
      "PROGRESS: | 1       | 54.707ms     | 1.06834           | 1.03349               | 0.195312    |\n",
      "PROGRESS: | 2       | 109.445ms    | 0.807083          | 0.898364              | 0.116134    |\n",
      "PROGRESS: | 3       | 167.558ms    | 0.678054          | 0.823439              | 0.0856819   |\n",
      "PROGRESS: | 4       | 220.704ms    | 0.585266          | 0.765027              | 0.0690534   |\n",
      "PROGRESS: | 5       | 271.01ms     | 0.523764          | 0.723716              | 0.0584121   |\n",
      "PROGRESS: | 6       | 312.43ms     | 0.491355          | 0.700967              | 0.0509468   |\n",
      "PROGRESS: | 11      | 574.241ms    | 0.434421          | 0.659106              | 0.0323359   |\n",
      "PROGRESS: | 25      | 1.28s        | 0.397507          | 0.630482              | 0.0174693   |\n",
      "PROGRESS: | 50      | 2.56s        | 0.381031          | 0.617277              | 0.0103873   |\n",
      "PROGRESS: | 51      | 2.63s        | 0.380355          | 0.616729              | 0.0102342   |\n",
      "PROGRESS: | 75      | 3.84s        | 0.36222           | 0.601847              | 0.00161108  |\n",
      "PROGRESS: | 100     | 5.11s        | 0.358878          | 0.599064              | 0.000162302 |\n",
      "PROGRESS: +---------+--------------+-------------------+-----------------------+-------------+\n",
      "PROGRESS: Optimization Complete: Maximum number of passes through the data reached.\n",
      "PROGRESS: Computing final objective value and training RMSE.\n",
      "PROGRESS:        Final objective value: 0.35848\n",
      "PROGRESS:        Final training RMSE: 0.598732\n",
      "PROGRESS: Recsys training: model = factorization_recommender\n",
      "PROGRESS: Preparing data set.\n",
      "PROGRESS:     Data has 219487 observations with 29260 users and 64 items.\n",
      "PROGRESS:     Data prepared in: 0.104206s\n",
      "PROGRESS: Training factorization_recommender for recommendations.\n",
      "PROGRESS: +--------------------------------+--------------------------------------------------+----------+\n",
      "PROGRESS: | Parameter                      | Description                                      | Value    |\n",
      "PROGRESS: +--------------------------------+--------------------------------------------------+----------+\n",
      "PROGRESS: | num_factors                    | Factor Dimension                                 | 1        |\n",
      "PROGRESS: | regularization                 | L2 Regularization on Factors                     | 0        |\n",
      "PROGRESS: | solver                         | Solver used for training                         | sgd      |\n",
      "PROGRESS: | max_iterations                 | Maximum Number of Iterations                     | 100      |\n",
      "PROGRESS: +--------------------------------+--------------------------------------------------+----------+\n",
      "PROGRESS:   Optimizing model using SGD; tuning step size.\n",
      "PROGRESS:   Using 27435 / 219487 points for tuning the step size.\n",
      "PROGRESS: +---------+-------------------+------------------------------------------+\n",
      "PROGRESS: | Attempt | Initial Step Size | Estimated Objective Value                |\n",
      "PROGRESS: +---------+-------------------+------------------------------------------+\n",
      "PROGRESS: | 0       | 25                | No Decrease (3.60261 >= 1.49767)         |\n",
      "PROGRESS: | 1       | 6.25              | No Decrease (3.43827 >= 1.49767)         |\n",
      "PROGRESS: | 2       | 1.5625            | 1.163                                    |\n",
      "PROGRESS: | 3       | 0.78125           | 0.218223                                 |\n",
      "PROGRESS: | 4       | 0.390625          | 0.117418                                 |\n",
      "PROGRESS: | 5       | 0.195312          | 0.0697263                                |\n",
      "PROGRESS: | 6       | 0.0976562         | 0.16707                                  |\n",
      "PROGRESS: +---------+-------------------+------------------------------------------+\n",
      "PROGRESS: | Final   | 0.195312          | 0.0697263                                |\n",
      "PROGRESS: +---------+-------------------+------------------------------------------+\n",
      "PROGRESS: Starting Optimization.\n",
      "PROGRESS: +---------+--------------+-------------------+-----------------------+-------------+\n",
      "PROGRESS: | Iter.   | Elapsed Time | Approx. Objective | Approx. Training RMSE | Step Size   |\n",
      "PROGRESS: +---------+--------------+-------------------+-----------------------+-------------+\n",
      "PROGRESS: | Initial | 90us         | 1.48773           | 1.21973               |             |\n",
      "PROGRESS: +---------+--------------+-------------------+-----------------------+-------------+\n",
      "PROGRESS: | 1       | 70.672ms     | 0.410544          | 0.640649              | 0.195312    |\n",
      "PROGRESS: | 2       | 138.744ms    | 0.251018          | 0.501005              | 0.116134    |\n",
      "PROGRESS: | 3       | 216.577ms    | 0.2104            | 0.458692              | 0.0856819   |\n",
      "PROGRESS: | 4       | 290.806ms    | 0.189097          | 0.434852              | 0.0690534   |\n",
      "PROGRESS: | 5       | 345.115ms    | 0.177843          | 0.421715              | 0.0584121   |\n",
      "PROGRESS: | 6       | 410.102ms    | 0.169755          | 0.412013              | 0.0509468   |\n",
      "PROGRESS: | 11      | 730.286ms    | 0.150594          | 0.388065              | 0.0323359   |\n",
      "PROGRESS: | 25      | 1.60s        | 0.135663          | 0.368325              | 0.0174693   |\n",
      "PROGRESS: | 50      | 3.11s        | 0.127584          | 0.357189              | 0.0103873   |\n",
      "PROGRESS: | 51      | 3.18s        | 0.127452          | 0.357004              | 0.0102342   |\n",
      "PROGRESS: | 75      | 4.65s        | 0.124715          | 0.35315               | 0.00766362  |\n",
      "PROGRESS: | 100     | 6.16s        | 0.120273          | 0.346804              | 0.00129841  |\n",
      "PROGRESS: +---------+--------------+-------------------+-----------------------+-------------+\n",
      "PROGRESS: Optimization Complete: Maximum number of passes through the data reached.\n",
      "PROGRESS: Computing final objective value and training RMSE.\n",
      "PROGRESS:        Final objective value: 0.119509\n",
      "PROGRESS:        Final training RMSE: 0.345701\n",
      "PROGRESS: Recsys training: model = factorization_recommender\n",
      "PROGRESS: Preparing data set.\n",
      "PROGRESS:     Data has 99376 observations with 23775 users and 43 items.\n",
      "PROGRESS:     Data prepared in: 0.065812s\n",
      "PROGRESS: Training factorization_recommender for recommendations.\n",
      "PROGRESS: +--------------------------------+--------------------------------------------------+----------+\n",
      "PROGRESS: | Parameter                      | Description                                      | Value    |\n",
      "PROGRESS: +--------------------------------+--------------------------------------------------+----------+\n",
      "PROGRESS: | num_factors                    | Factor Dimension                                 | 1        |\n",
      "PROGRESS: | regularization                 | L2 Regularization on Factors                     | 0        |\n",
      "PROGRESS: | solver                         | Solver used for training                         | sgd      |\n",
      "PROGRESS: | max_iterations                 | Maximum Number of Iterations                     | 100      |\n",
      "PROGRESS: +--------------------------------+--------------------------------------------------+----------+\n",
      "PROGRESS:   Optimizing model using SGD; tuning step size.\n",
      "PROGRESS:   Using 12422 / 99376 points for tuning the step size.\n",
      "PROGRESS: +---------+-------------------+------------------------------------------+\n",
      "PROGRESS: | Attempt | Initial Step Size | Estimated Objective Value                |\n",
      "PROGRESS: +---------+-------------------+------------------------------------------+\n",
      "PROGRESS: | 0       | 25                | 3.84978                                  |\n",
      "PROGRESS: | 1       | 12.5              | 2.61625                                  |\n",
      "PROGRESS: | 2       | 6.25              | 3.29202                                  |\n",
      "PROGRESS: | 3       | 3.125             | 3.68163                                  |\n",
      "PROGRESS: | 4       | 1.5625            | 1.88583                                  |\n",
      "PROGRESS: | 5       | 0.78125           | 0.566866                                 |\n",
      "PROGRESS: | 6       | 0.390625          | 0.464181                                 |\n",
      "PROGRESS: | 7       | 0.195312          | 0.202101                                 |\n",
      "PROGRESS: | 8       | 0.0976562         | 0.337744                                 |\n",
      "PROGRESS: | 9       | 0.0488281         | 1.18462                                  |\n",
      "PROGRESS: +---------+-------------------+------------------------------------------+\n",
      "PROGRESS: | Final   | 0.195312          | 0.202101                                 |\n",
      "PROGRESS: +---------+-------------------+------------------------------------------+\n",
      "PROGRESS: Starting Optimization.\n",
      "PROGRESS: +---------+--------------+-------------------+-----------------------+-------------+\n",
      "PROGRESS: | Iter.   | Elapsed Time | Approx. Objective | Approx. Training RMSE | Step Size   |\n",
      "PROGRESS: +---------+--------------+-------------------+-----------------------+-------------+\n",
      "PROGRESS: | Initial | 67us         | 12.2461           | 3.49945               |             |\n",
      "PROGRESS: +---------+--------------+-------------------+-----------------------+-------------+\n",
      "PROGRESS: | 1       | 66.723ms     | 2.19653           | 1.48198               | 0.195312    |\n",
      "PROGRESS: | 2       | 112.56ms     | 1.45274           | 1.20529               | 0.116134    |\n",
      "PROGRESS: | 3       | 200.875ms    | 1.2161            | 1.10277               | 0.0856819   |\n",
      "PROGRESS: | 4       | 268.28ms     | 1.10404           | 1.05073               | 0.0690534   |\n",
      "PROGRESS: | 5       | 342.61ms     | 1.02208           | 1.01098               | 0.0584121   |\n",
      "PROGRESS: | 6       | 411.36ms     | 0.953044          | 0.97624               | 0.0509468   |\n",
      "PROGRESS: | 11      | 825.333ms    | 0.77758           | 0.881805              | 0.0323359   |\n",
      "PROGRESS: | 25      | 1.84s        | 0.679225          | 0.824151              | 0.0174693   |\n",
      "PROGRESS: | 50      | 3.68s        | 0.613029          | 0.782962              | 0.00617632  |\n",
      "PROGRESS: | 51      | 3.76s        | 0.6119            | 0.782241              | 0.00608527  |\n",
      "PROGRESS: | 75      | 5.58s        | 0.592277          | 0.769596              | 0.0027095   |\n",
      "PROGRESS: | 100     | 7.44s        | 0.579258          | 0.76109               | 0.000162302 |\n",
      "PROGRESS: +---------+--------------+-------------------+-----------------------+-------------+\n",
      "PROGRESS: Optimization Complete: Maximum number of passes through the data reached.\n",
      "PROGRESS: Computing final objective value and training RMSE.\n",
      "PROGRESS:        Final objective value: 0.578414\n",
      "PROGRESS:        Final training RMSE: 0.760535\n"
     ]
    }
   ],
   "source": [
    "import seaborn\n",
    "import ranking as r\n",
    "import validate_model as vm\n",
    "import create_model as cm\n",
    "%matplotlib inline \n",
    "%run first_model.py\n",
    "%load_ext autoreload\n",
    "%autoreload 2"
   ]
  },
  {
   "cell_type": "code",
   "execution_count": 3,
   "metadata": {
    "collapsed": true
   },
   "outputs": [
    {
     "name": "stdout",
     "output_type": "stream",
     "text": [
      "PROGRESS: Recsys training: model = factorization_recommender\n",
      "PROGRESS: Preparing data set.\n",
      "PROGRESS:     Data has 319332 observations with 30287 users and 109 items.\n",
      "PROGRESS:     Data prepared in: 0.126067s\n",
      "PROGRESS: Training factorization_recommender for recommendations.\n",
      "PROGRESS: +--------------------------------+--------------------------------------------------+----------+\n",
      "PROGRESS: | Parameter                      | Description                                      | Value    |\n",
      "PROGRESS: +--------------------------------+--------------------------------------------------+----------+\n",
      "PROGRESS: | num_factors                    | Factor Dimension                                 | 1        |\n",
      "PROGRESS: | regularization                 | L2 Regularization on Factors                     | 0        |\n",
      "PROGRESS: | solver                         | Solver used for training                         | sgd      |\n",
      "PROGRESS: | max_iterations                 | Maximum Number of Iterations                     | 100      |\n",
      "PROGRESS: +--------------------------------+--------------------------------------------------+----------+\n",
      "PROGRESS:   Optimizing model using SGD; tuning step size.\n",
      "PROGRESS:   Using 39916 / 319332 points for tuning the step size.\n",
      "PROGRESS: +---------+-------------------+------------------------------------------+\n",
      "PROGRESS: | Attempt | Initial Step Size | Estimated Objective Value                |\n",
      "PROGRESS: +---------+-------------------+------------------------------------------+\n",
      "PROGRESS: | 0       | 25                | 4.87748                                  |\n",
      "PROGRESS: | 1       | 12.5              | 4.32834                                  |\n",
      "PROGRESS: | 2       | 6.25              | 4.44078                                  |\n",
      "PROGRESS: | 3       | 3.125             | 3.05798                                  |\n",
      "PROGRESS: | 4       | 1.5625            | 1.65065                                  |\n",
      "PROGRESS: | 5       | 0.78125           | 0.649611                                 |\n",
      "PROGRESS: | 6       | 0.390625          | 0.412556                                 |\n",
      "PROGRESS: | 7       | 0.195312          | 0.220445                                 |\n",
      "PROGRESS: | 8       | 0.0976562         | 0.252393                                 |\n",
      "PROGRESS: | 9       | 0.0488281         | 0.581306                                 |\n",
      "PROGRESS: +---------+-------------------+------------------------------------------+\n",
      "PROGRESS: | Final   | 0.195312          | 0.220445                                 |\n",
      "PROGRESS: +---------+-------------------+------------------------------------------+\n",
      "PROGRESS: Starting Optimization.\n",
      "PROGRESS: +---------+--------------+-------------------+-----------------------+-------------+\n",
      "PROGRESS: | Iter.   | Elapsed Time | Approx. Objective | Approx. Training RMSE | Step Size   |\n",
      "PROGRESS: +---------+--------------+-------------------+-----------------------+-------------+\n",
      "PROGRESS: | Initial | 96us         | 11.966            | 3.45919               |             |\n",
      "PROGRESS: +---------+--------------+-------------------+-----------------------+-------------+\n",
      "PROGRESS: | 1       | 51.3ms       | 1.06355           | 1.03117               | 0.195312    |\n",
      "PROGRESS: | 2       | 109.495ms    | 0.792055          | 0.889961              | 0.116134    |\n",
      "PROGRESS: | 3       | 162.67ms     | 0.632597          | 0.795358              | 0.0856819   |\n",
      "PROGRESS: | 4       | 211.764ms    | 0.547997          | 0.740268              | 0.0690534   |\n",
      "PROGRESS: | 5       | 264.806ms    | 0.505707          | 0.711131              | 0.0584121   |\n",
      "PROGRESS: | 6       | 304.143ms    | 0.481022          | 0.693557              | 0.0509468   |\n",
      "PROGRESS: | 11      | 552.326ms    | 0.431541          | 0.656918              | 0.0323359   |\n",
      "PROGRESS: | 25      | 1.25s        | 0.396663          | 0.629812              | 0.0174693   |\n",
      "PROGRESS: | 50      | 2.51s        | 0.380628          | 0.61695               | 0.0103873   |\n",
      "PROGRESS: | 51      | 2.56s        | 0.380238          | 0.616635              | 0.0102342   |\n",
      "PROGRESS: | 75      | 3.75s        | 0.361993          | 0.601659              | 0.00161108  |\n",
      "PROGRESS: | 100     | 5.03s        | 0.358622          | 0.598851              | 9.65051e-05 |\n",
      "PROGRESS: +---------+--------------+-------------------+-----------------------+-------------+\n",
      "PROGRESS: Optimization Complete: Maximum number of passes through the data reached.\n",
      "PROGRESS: Computing final objective value and training RMSE.\n",
      "PROGRESS:        Final objective value: 0.358379\n",
      "PROGRESS:        Final training RMSE: 0.598648\n",
      "PROGRESS: Recsys training: model = factorization_recommender\n",
      "PROGRESS: Preparing data set.\n",
      "PROGRESS:     Data has 219487 observations with 29260 users and 64 items.\n",
      "PROGRESS:     Data prepared in: 0.100838s\n",
      "PROGRESS: Training factorization_recommender for recommendations.\n",
      "PROGRESS: +--------------------------------+--------------------------------------------------+----------+\n",
      "PROGRESS: | Parameter                      | Description                                      | Value    |\n",
      "PROGRESS: +--------------------------------+--------------------------------------------------+----------+\n",
      "PROGRESS: | num_factors                    | Factor Dimension                                 | 1        |\n",
      "PROGRESS: | regularization                 | L2 Regularization on Factors                     | 0        |\n",
      "PROGRESS: | solver                         | Solver used for training                         | sgd      |\n",
      "PROGRESS: | max_iterations                 | Maximum Number of Iterations                     | 100      |\n",
      "PROGRESS: +--------------------------------+--------------------------------------------------+----------+\n",
      "PROGRESS:   Optimizing model using SGD; tuning step size.\n",
      "PROGRESS:   Using 27435 / 219487 points for tuning the step size.\n",
      "PROGRESS: +---------+-------------------+------------------------------------------+\n",
      "PROGRESS: | Attempt | Initial Step Size | Estimated Objective Value                |\n",
      "PROGRESS: +---------+-------------------+------------------------------------------+\n",
      "PROGRESS: | 0       | 25                | No Decrease (5.17776 >= 1.48932)         |\n",
      "PROGRESS: | 1       | 6.25              | No Decrease (4.18696 >= 1.48932)         |\n",
      "PROGRESS: | 2       | 1.5625            | 1.06059                                  |\n",
      "PROGRESS: | 3       | 0.78125           | 0.213126                                 |\n",
      "PROGRESS: | 4       | 0.390625          | 0.103457                                 |\n",
      "PROGRESS: | 5       | 0.195312          | 0.0712593                                |\n",
      "PROGRESS: | 6       | 0.0976562         | 0.151624                                 |\n",
      "PROGRESS: +---------+-------------------+------------------------------------------+\n",
      "PROGRESS: | Final   | 0.195312          | 0.0712593                                |\n",
      "PROGRESS: +---------+-------------------+------------------------------------------+\n",
      "PROGRESS: Starting Optimization.\n",
      "PROGRESS: +---------+--------------+-------------------+-----------------------+-------------+\n",
      "PROGRESS: | Iter.   | Elapsed Time | Approx. Objective | Approx. Training RMSE | Step Size   |\n",
      "PROGRESS: +---------+--------------+-------------------+-----------------------+-------------+\n",
      "PROGRESS: | Initial | 93us         | 1.48772           | 1.21972               |             |\n",
      "PROGRESS: +---------+--------------+-------------------+-----------------------+-------------+\n",
      "PROGRESS: | 1       | 58.401ms     | 0.408978          | 0.639426              | 0.195312    |\n",
      "PROGRESS: | 2       | 113.686ms    | 0.250785          | 0.500772              | 0.116134    |\n",
      "PROGRESS: | 3       | 169.17ms     | 0.209287          | 0.457478              | 0.0856819   |\n",
      "PROGRESS: | 4       | 228.185ms    | 0.189442          | 0.435249              | 0.0690534   |\n",
      "PROGRESS: | 5       | 288.905ms    | 0.176976          | 0.420685              | 0.0584121   |\n",
      "PROGRESS: | 6       | 354.642ms    | 0.16861           | 0.410622              | 0.0509468   |\n",
      "PROGRESS: | 11      | 652.855ms    | 0.149466          | 0.386609              | 0.0323359   |\n",
      "PROGRESS: | 25      | 1.51s        | 0.134433          | 0.366651              | 0.0174693   |\n",
      "PROGRESS: | 50      | 3.06s        | 0.127377          | 0.356899              | 0.0103873   |\n",
      "PROGRESS: | 51      | 3.12s        | 0.127205          | 0.356659              | 0.0102342   |\n",
      "PROGRESS: | 75      | 4.62s        | 0.122121          | 0.349458              | 0.0027095   |\n",
      "PROGRESS: | 100     | 6.18s        | 0.120596          | 0.34727               | 0.00038602  |\n",
      "PROGRESS: +---------+--------------+-------------------+-----------------------+-------------+\n",
      "PROGRESS: Optimization Complete: Maximum number of passes through the data reached.\n",
      "PROGRESS: Computing final objective value and training RMSE.\n",
      "PROGRESS:        Final objective value: 0.120354\n",
      "PROGRESS:        Final training RMSE: 0.346921\n",
      "PROGRESS: Recsys training: model = factorization_recommender\n",
      "PROGRESS: Preparing data set.\n",
      "PROGRESS:     Data has 99376 observations with 23775 users and 43 items.\n",
      "PROGRESS:     Data prepared in: 0.066946s\n",
      "PROGRESS: Training factorization_recommender for recommendations.\n",
      "PROGRESS: +--------------------------------+--------------------------------------------------+----------+\n",
      "PROGRESS: | Parameter                      | Description                                      | Value    |\n",
      "PROGRESS: +--------------------------------+--------------------------------------------------+----------+\n",
      "PROGRESS: | num_factors                    | Factor Dimension                                 | 1        |\n",
      "PROGRESS: | regularization                 | L2 Regularization on Factors                     | 0        |\n",
      "PROGRESS: | solver                         | Solver used for training                         | sgd      |\n",
      "PROGRESS: | max_iterations                 | Maximum Number of Iterations                     | 100      |\n",
      "PROGRESS: +--------------------------------+--------------------------------------------------+----------+\n",
      "PROGRESS:   Optimizing model using SGD; tuning step size.\n",
      "PROGRESS:   Using 12422 / 99376 points for tuning the step size.\n",
      "PROGRESS: +---------+-------------------+------------------------------------------+\n",
      "PROGRESS: | Attempt | Initial Step Size | Estimated Objective Value                |\n",
      "PROGRESS: +---------+-------------------+------------------------------------------+\n",
      "PROGRESS: | 0       | 25                | 4.56567                                  |\n",
      "PROGRESS: | 1       | 12.5              | 3.37372                                  |\n",
      "PROGRESS: | 2       | 6.25              | 3.87903                                  |\n",
      "PROGRESS: | 3       | 3.125             | 3.23351                                  |\n",
      "PROGRESS: | 4       | 1.5625            | 1.56853                                  |\n",
      "PROGRESS: | 5       | 0.78125           | 0.805329                                 |\n",
      "PROGRESS: | 6       | 0.390625          | 0.425979                                 |\n",
      "PROGRESS: | 7       | 0.195312          | 0.230716                                 |\n",
      "PROGRESS: | 8       | 0.0976562         | 0.438677                                 |\n",
      "PROGRESS: | 9       | 0.0488281         | 1.23215                                  |\n",
      "PROGRESS: +---------+-------------------+------------------------------------------+\n",
      "PROGRESS: | Final   | 0.195312          | 0.230716                                 |\n",
      "PROGRESS: +---------+-------------------+------------------------------------------+\n",
      "PROGRESS: Starting Optimization.\n",
      "PROGRESS: +---------+--------------+-------------------+-----------------------+-------------+\n",
      "PROGRESS: | Iter.   | Elapsed Time | Approx. Objective | Approx. Training RMSE | Step Size   |\n",
      "PROGRESS: +---------+--------------+-------------------+-----------------------+-------------+\n",
      "PROGRESS: | Initial | 74us         | 12.2461           | 3.49944               |             |\n",
      "PROGRESS: +---------+--------------+-------------------+-----------------------+-------------+\n",
      "PROGRESS: | 1       | 81.012ms     | 2.20444           | 1.48465               | 0.195312    |\n",
      "PROGRESS: | 2       | 121.422ms    | 1.44156           | 1.20064               | 0.116134    |\n",
      "PROGRESS: | 3       | 211.187ms    | 1.17774           | 1.08524               | 0.0856819   |\n",
      "PROGRESS: | 4       | 294.463ms    | 1.02888           | 1.01434               | 0.0690534   |\n",
      "PROGRESS: | 5       | 365.729ms    | 0.932441          | 0.96563               | 0.0584121   |\n",
      "PROGRESS: | 6       | 430.821ms    | 0.863687          | 0.929348              | 0.0509468   |\n",
      "PROGRESS: | 11      | 792.734ms    | 0.723527          | 0.850604              | 0.0323359   |\n",
      "PROGRESS: | 25      | 1.78s        | 0.637614          | 0.798507              | 0.0174693   |\n",
      "PROGRESS: | 50      | 3.74s        | 0.600205          | 0.774729              | 0.0103873   |\n",
      "PROGRESS: | 51      | 3.82s        | 0.597922          | 0.773254              | 0.0102342   |\n",
      "PROGRESS: | 75      | 5.55s        | 0.560222          | 0.74848               | 0.00191591  |\n",
      "PROGRESS: | 100     | 7.48s        | 0.551863          | 0.742874              | 0.000229529 |\n",
      "PROGRESS: +---------+--------------+-------------------+-----------------------+-------------+\n",
      "PROGRESS: Optimization Complete: Maximum number of passes through the data reached.\n",
      "PROGRESS: Computing final objective value and training RMSE.\n",
      "PROGRESS:        Final objective value: 0.550777\n",
      "PROGRESS:        Final training RMSE: 0.742143\n"
     ]
    }
   ],
   "source": [
    "athlete_ratings, segment_ratings, models = cm.df_to_latent_features(training_df)"
   ]
  },
  {
   "cell_type": "code",
   "execution_count": 4,
   "metadata": {
    "collapsed": false
   },
   "outputs": [
    {
     "data": {
      "text/plain": [
       "{'downhill': 0.48497524664584696,\n",
       " 'total': 0.3780499715071135,\n",
       " 'uphill': 0.23350456828295837}"
      ]
     },
     "execution_count": 4,
     "metadata": {},
     "output_type": "execute_result"
    }
   ],
   "source": [
    "vm.testing_rmse(models, training_df)"
   ]
  },
  {
   "cell_type": "code",
   "execution_count": null,
   "metadata": {
    "collapsed": false
   },
   "outputs": [],
   "source": [
    "vm.evaluate_latent_feature_correlations(training_df, segment_ratings)"
   ]
  },
  {
   "cell_type": "code",
   "execution_count": null,
   "metadata": {
    "collapsed": false,
    "scrolled": true
   },
   "outputs": [],
   "source": [
    "vm.plot_ratings(athlete_ratings)"
   ]
  },
  {
   "cell_type": "code",
   "execution_count": null,
   "metadata": {
    "collapsed": false,
    "scrolled": true
   },
   "outputs": [],
   "source": [
    "vm.plot_ratings(segment_ratings)"
   ]
  },
  {
   "cell_type": "code",
   "execution_count": null,
   "metadata": {
    "collapsed": false
   },
   "outputs": [],
   "source": [
    "leaderboards = r.get_all_leaderboards(athlete_ratings, file_path='../app/app_data/leaderboards.pkl')\n",
    "leaderboards"
   ]
  },
  {
   "cell_type": "code",
   "execution_count": 5,
   "metadata": {
    "collapsed": false
   },
   "outputs": [
    {
     "data": {
      "text/plain": [
       "average_watts         2.088545e+05\n",
       "distance              1.895026e+03\n",
       "elapsed_time          1.241465e+06\n",
       "moving_time           5.383627e+02\n",
       "athlete_id            1.618634e+06\n",
       "segment_id            2.562684e+06\n",
       "activity_id           1.117760e+08\n",
       "seg_average_grade     2.143119e+00\n",
       "seg_distance          1.863643e+03\n",
       "seg_elevation_low     1.858260e+02\n",
       "seg_elevation_high    1.913118e+02\n",
       "seg_maximum_grade     3.909759e+01\n",
       "tracks_cadence        4.430779e-01\n",
       "tracks_heartrate      4.870112e-01\n",
       "dist_diff             1.534885e+02\n",
       "average_speed         1.324252e+00\n",
       "dtype: float64"
      ]
     },
     "execution_count": 5,
     "metadata": {},
     "output_type": "execute_result"
    }
   ],
   "source": [
    "df.query(\"seg_average_grade < 0\").std()"
   ]
  },
  {
   "cell_type": "code",
   "execution_count": null,
   "metadata": {
    "collapsed": false
   },
   "outputs": [],
   "source": [
    "df.groupby(['athlete_id', 'segment_id']).average_speed.mean().std()"
   ]
  },
  {
   "cell_type": "code",
   "execution_count": null,
   "metadata": {
    "collapsed": false
   },
   "outputs": [],
   "source": [
    "downhill_test_df = testing_df.query('seg_average_grade < 0')"
   ]
  },
  {
   "cell_type": "code",
   "execution_count": null,
   "metadata": {
    "collapsed": false
   },
   "outputs": [],
   "source": [
    "downhill_test_df.shape"
   ]
  },
  {
   "cell_type": "code",
   "execution_count": null,
   "metadata": {
    "collapsed": true
   },
   "outputs": [],
   "source": []
  }
 ],
 "metadata": {
  "kernelspec": {
   "display_name": "Python 2",
   "language": "python",
   "name": "python2"
  },
  "language_info": {
   "codemirror_mode": {
    "name": "ipython",
    "version": 2
   },
   "file_extension": ".py",
   "mimetype": "text/x-python",
   "name": "python",
   "nbconvert_exporter": "python",
   "pygments_lexer": "ipython2",
   "version": "2.7.9"
  }
 },
 "nbformat": 4,
 "nbformat_minor": 0
}
